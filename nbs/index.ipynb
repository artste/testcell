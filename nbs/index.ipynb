{
 "cells": [
  {
   "cell_type": "markdown",
   "metadata": {},
   "source": [
    "# testcell"
   ]
  },
  {
   "cell_type": "code",
   "execution_count": null,
   "metadata": {},
   "outputs": [],
   "source": [
    "#| hide\n",
    "import testcell"
   ]
  },
  {
   "cell_type": "markdown",
   "metadata": {},
   "source": [
    "**TL;DR**: `%%testcell` prevents your testing cells from affecting the global namespace.\n",
    "\n",
    "The Python cell magic `%%testcell` executes a cell without *polluting* the notebook's global variables. This is useful whenever you want to test your code without having any of the local variables escape that cell.\n",
    "\n",
    "What's happening under the hood is that your cell code, before being executed, is wrapped in a temporary function that will be deleted after execution. To give you the feeling of \"seamless integration\" the last line is optionally wrapped with a `display` statement if needed.\n",
    "\n",
    "**WARNING:** this don't protect you from *the side effects of your code* like deleting a file or mutating the state of a global variable."
   ]
  },
  {
   "cell_type": "markdown",
   "metadata": {},
   "source": [
    "## Install"
   ]
  },
  {
   "cell_type": "markdown",
   "metadata": {},
   "source": [
    "```sh\n",
    "pip install testcell\n",
    "```"
   ]
  },
  {
   "cell_type": "markdown",
   "metadata": {},
   "source": [
    "## How to use"
   ]
  },
  {
   "cell_type": "markdown",
   "metadata": {},
   "source": [
    "just import it with `import testcell` and then use the `%%testcell` cell magic."
   ]
  },
  {
   "cell_type": "markdown",
   "metadata": {},
   "source": [
    "```python\n",
    "%%testcell\n",
    "a = \"'a' is not polluting global scope\"\n",
    "a\n",
    "```"
   ]
  },
  {
   "cell_type": "code",
   "execution_count": null,
   "metadata": {},
   "outputs": [
    {
     "data": {
      "text/plain": [
       "\"'a' is not polluting global scope\""
      ]
     },
     "metadata": {},
     "output_type": "display_data"
    }
   ],
   "source": [
    "%%testcell\n",
    "#| echo: false\n",
    "a = \"'a' is not polluting global scope\"\n",
    "a"
   ]
  },
  {
   "cell_type": "code",
   "execution_count": null,
   "metadata": {},
   "outputs": [],
   "source": [
    "assert 'a' not in locals()"
   ]
  },
  {
   "cell_type": "markdown",
   "metadata": {},
   "source": [
    "What is happening under the hood is that `%%testcell` wraps your cell's code with a function, execute it and then deletes it. Adding the `verbose` keywork will print which code will be executed."
   ]
  },
  {
   "cell_type": "markdown",
   "metadata": {},
   "source": [
    "```python\n",
    "%%testcell verbose\n",
    "a = \"'a' is not polluting global scope\"\n",
    "a\n",
    "```"
   ]
  },
  {
   "cell_type": "code",
   "execution_count": null,
   "metadata": {},
   "outputs": [
    {
     "name": "stdout",
     "output_type": "stream",
     "text": [
      "\n",
      "### BEGIN\n",
      "def _test_cell_():\n",
      "\t#| echo: false\n",
      "\ta = \"'a' is not polluting global scope\"\n",
      "\tdisplay(a)\n",
      "try:\n",
      "\t_test_cell_()\n",
      "finally:\n",
      "\tdel _test_cell_\n",
      "### END\n"
     ]
    },
    {
     "data": {
      "text/plain": [
       "\"'a' is not polluting global scope\""
      ]
     },
     "metadata": {},
     "output_type": "display_data"
    }
   ],
   "source": [
    "%%testcell verbose\n",
    "#| echo: false\n",
    "a = \"'a' is not polluting global scope\"\n",
    "a"
   ]
  },
  {
   "cell_type": "markdown",
   "metadata": {},
   "source": [
    "If you're just interested in seeing what will be executed, but actually not executing it, you ca use `dryrun` option:"
   ]
  },
  {
   "cell_type": "markdown",
   "metadata": {},
   "source": [
    "```python\n",
    "%%testcell dryrun\n",
    "a = \"'a' is not polluting global scope\"\n",
    "a\n",
    "```"
   ]
  },
  {
   "cell_type": "code",
   "execution_count": null,
   "metadata": {},
   "outputs": [
    {
     "name": "stdout",
     "output_type": "stream",
     "text": [
      "\n",
      "### BEGIN\n",
      "def _test_cell_():\n",
      "\t#| echo: false\n",
      "\ta = \"'a' is not polluting global scope\"\n",
      "\tdisplay(a)\n",
      "try:\n",
      "\t_test_cell_()\n",
      "finally:\n",
      "\tdel _test_cell_\n",
      "### END\n"
     ]
    }
   ],
   "source": [
    "%%testcell dryrun\n",
    "#| echo: false\n",
    "a = \"'a' is not polluting global scope\"\n",
    "a"
   ]
  },
  {
   "cell_type": "markdown",
   "metadata": {},
   "source": [
    "On top of *wrapping* your cell's code, it will optinally add a `display(...)` call on your last cell's row, trying to emulate what a real cell usually does. If you explicitly add a semicolon `;` in the end, this output will be suppressed."
   ]
  },
  {
   "cell_type": "markdown",
   "metadata": {},
   "source": [
    "```python\n",
    "%%testcell verbose\n",
    "a = \"'a' is not polluting global scope\"\n",
    "a;\n",
    "```"
   ]
  },
  {
   "cell_type": "code",
   "execution_count": null,
   "metadata": {},
   "outputs": [
    {
     "name": "stdout",
     "output_type": "stream",
     "text": [
      "\n",
      "### BEGIN\n",
      "def _test_cell_():\n",
      "\t#| echo: false\n",
      "\ta = \"'a' is not polluting global scope\"\n",
      "\ta;\n",
      "try:\n",
      "\t_test_cell_()\n",
      "finally:\n",
      "\tdel _test_cell_\n",
      "### END\n"
     ]
    }
   ],
   "source": [
    "%%testcell verbose\n",
    "#| echo: false\n",
    "a = \"'a' is not polluting global scope\"\n",
    "a;"
   ]
  },
  {
   "cell_type": "markdown",
   "metadata": {},
   "source": [
    "There are more cases where `display(...)` is avoided:\n",
    "* `display`: if this is already present on the last line.\n",
    "* `print`: even in this case no print is preserved and no other display call is added.\n",
    "* `# comment...#`: these are preserved "
   ]
  },
  {
   "cell_type": "markdown",
   "metadata": {},
   "source": [
    "```python\n",
    "%%testcell verbose\n",
    "a = \"'a' is not polluting global scope\"\n",
    "print(a)\n",
    "```"
   ]
  },
  {
   "cell_type": "code",
   "execution_count": null,
   "metadata": {},
   "outputs": [
    {
     "name": "stdout",
     "output_type": "stream",
     "text": [
      "\n",
      "### BEGIN\n",
      "def _test_cell_():\n",
      "\t#| echo: false\n",
      "\ta = \"'a' is not polluting global scope\"\n",
      "\tprint(a)\n",
      "try:\n",
      "\t_test_cell_()\n",
      "finally:\n",
      "\tdel _test_cell_\n",
      "### END\n",
      "'a' is not polluting global scope\n"
     ]
    }
   ],
   "source": [
    "%%testcell verbose\n",
    "#| echo: false\n",
    "a = \"'a' is not polluting global scope\"\n",
    "print(a)"
   ]
  },
  {
   "cell_type": "markdown",
   "metadata": {},
   "source": [
    "**IMPORTANT**: this is *just wrapping your cell*  and so it's still running on your main kernel. If you modify variables that has been created outside of this cell (aka: if you have side effects) this will not protect you."
   ]
  },
  {
   "cell_type": "markdown",
   "metadata": {},
   "source": [
    "## TODO:\n",
    "\n",
    "+ Install as a plugin to enable it by default like other cell's magic.\n",
    "+ Eval possibility to run code on a new kernel to reduce even more possible side effects."
   ]
  }
 ],
 "metadata": {
  "kernelspec": {
   "display_name": "python3",
   "language": "python",
   "name": "python3"
  }
 },
 "nbformat": 4,
 "nbformat_minor": 4
}
