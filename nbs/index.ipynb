{
 "cells": [
  {
   "cell_type": "markdown",
   "metadata": {},
   "source": [
    "# testcell"
   ]
  },
  {
   "cell_type": "code",
   "execution_count": null,
   "metadata": {},
   "outputs": [],
   "source": [
    "#| hide\n",
    "import testcell"
   ]
  },
  {
   "cell_type": "markdown",
   "metadata": {},
   "source": [
    "**TL;DR**: `%%testcell` prevents your testing cells from affecting the global namespace.\n",
    "\n",
    "The Python cell magic `%%testcell` executes a cell without *polluting* the notebook's global namespace. This is useful whenever you want to test your code without having any of the local variables escape that cell.\n",
    "\n",
    "What's happening under the hood is that your cell code, before being executed, is wrapped in a temporary function that will be deleted after execution. To give you the feeling of *seamless integration* the last statement is optionally returned like it happens in a normal cell.\n",
    "\n",
    "**WARNING:** this don't protect you from *the side effects of your code* like deleting a file or mutating the state of a global variable.\n",
    "\n",
    "[![](https://colab.research.google.com/assets/colab-badge.svg)](https://colab.research.google.com/github/artste/testcell/blob/main/demo/testcell_demo.ipynb) \n",
    "\n",
    "[![](https://kaggle.com/static/images/open-in-kaggle.svg)](https://www.kaggle.com/artste/introducing-testcell)"
   ]
  },
  {
   "cell_type": "markdown",
   "metadata": {},
   "source": [
    "## Install"
   ]
  },
  {
   "cell_type": "markdown",
   "metadata": {},
   "source": [
    "```sh\n",
    "pip install testcell\n",
    "```"
   ]
  },
  {
   "cell_type": "markdown",
   "metadata": {},
   "source": [
    "## How to use"
   ]
  },
  {
   "cell_type": "markdown",
   "metadata": {},
   "source": [
    "just import it with `import testcell` and then use the `%%testcell` cell magic."
   ]
  },
  {
   "cell_type": "markdown",
   "metadata": {},
   "source": [
    "```python\n",
    "%%testcell\n",
    "a = \"'a' is not polluting global scope\"\n",
    "a\n",
    "```"
   ]
  },
  {
   "cell_type": "code",
   "execution_count": null,
   "metadata": {},
   "outputs": [
    {
     "data": {
      "text/plain": [
       "\"'a' is not polluting global scope\""
      ]
     },
     "execution_count": null,
     "metadata": {},
     "output_type": "execute_result"
    }
   ],
   "source": [
    "%%testcell\n",
    "#| echo: false\n",
    "a = \"'a' is not polluting global scope\"\n",
    "a"
   ]
  },
  {
   "cell_type": "code",
   "execution_count": null,
   "metadata": {},
   "outputs": [],
   "source": [
    "assert 'a' not in locals()"
   ]
  },
  {
   "cell_type": "markdown",
   "metadata": {},
   "source": [
    "What is happening under the hood is that `%%testcell` wraps your cell's code with a function, execute it and then deletes it. Adding the `verbose` keywork will print which code will be executed.\n",
    "\n",
    "NOTE: The actual cell code is enclosed within `BEGIN` and `END` comment blocks for improved readability."
   ]
  },
  {
   "cell_type": "markdown",
   "metadata": {},
   "source": [
    "```python\n",
    "%%testcell verbose\n",
    "a = \"'a' is not polluting global scope\"\n",
    "a\n",
    "```"
   ]
  },
  {
   "cell_type": "code",
   "execution_count": null,
   "metadata": {},
   "outputs": [
    {
     "name": "stdout",
     "output_type": "stream",
     "text": [
      "\n",
      "### BEGIN\n",
      "def _test_cell_():\n",
      "\t#| echo: false\n",
      "\ta = \"'a' is not polluting global scope\"\n",
      "\treturn a # %%testcell\n",
      "try:\n",
      "\t_ = _test_cell_()\n",
      "finally:\n",
      "\tdel _test_cell_\n",
      "_ # This will be added to global scope\n",
      "### END\n"
     ]
    },
    {
     "data": {
      "text/plain": [
       "\"'a' is not polluting global scope\""
      ]
     },
     "execution_count": null,
     "metadata": {},
     "output_type": "execute_result"
    }
   ],
   "source": [
    "%%testcell verbose\n",
    "#| echo: false\n",
    "a = \"'a' is not polluting global scope\"\n",
    "a"
   ]
  },
  {
   "cell_type": "markdown",
   "metadata": {},
   "source": [
    "If you're just interested in seeing what will be executed, but actually not executing it, you ca use `dryrun` option:"
   ]
  },
  {
   "cell_type": "markdown",
   "metadata": {},
   "source": [
    "```python\n",
    "%%testcell dryrun\n",
    "a = \"'a' is not polluting global scope\"\n",
    "a\n",
    "```"
   ]
  },
  {
   "cell_type": "code",
   "execution_count": null,
   "metadata": {},
   "outputs": [
    {
     "name": "stdout",
     "output_type": "stream",
     "text": [
      "\n",
      "### BEGIN\n",
      "def _test_cell_():\n",
      "\t#| echo: false\n",
      "\ta = \"'a' is not polluting global scope\"\n",
      "\treturn a # %%testcell\n",
      "try:\n",
      "\t_ = _test_cell_()\n",
      "finally:\n",
      "\tdel _test_cell_\n",
      "if _ is not None: display(_)\n",
      "### END\n"
     ]
    }
   ],
   "source": [
    "%%testcell dryrun\n",
    "#| echo: false\n",
    "a = \"'a' is not polluting global scope\"\n",
    "a"
   ]
  },
  {
   "cell_type": "markdown",
   "metadata": {},
   "source": [
    "If you add a semicolon `;` at the end of your last statement no `return` statement is added and nothing is displayed like a normal jupyter cell."
   ]
  },
  {
   "cell_type": "markdown",
   "metadata": {},
   "source": [
    "```python\n",
    "%%testcell verbose\n",
    "a = \"'a' is not polluting global scope\"\n",
    "a;\n",
    "```"
   ]
  },
  {
   "cell_type": "code",
   "execution_count": null,
   "metadata": {},
   "outputs": [
    {
     "name": "stdout",
     "output_type": "stream",
     "text": [
      "\n",
      "### BEGIN\n",
      "def _test_cell_():\n",
      "\t#| echo: false\n",
      "\ta = \"'a' is not polluting global scope\"\n",
      "\ta;\n",
      "try:\n",
      "\t_ = _test_cell_()\n",
      "finally:\n",
      "\tdel _test_cell_\n",
      "_ # This will be added to global scope\n",
      "### END\n"
     ]
    }
   ],
   "source": [
    "%%testcell verbose\n",
    "#| echo: false\n",
    "a = \"'a' is not polluting global scope\"\n",
    "a;"
   ]
  },
  {
   "cell_type": "markdown",
   "metadata": {},
   "source": [
    "`testcell` works seamlessly with existing `print` or `display`statements on last line:"
   ]
  },
  {
   "cell_type": "markdown",
   "metadata": {},
   "source": [
    "```python\n",
    "%%testcell verbose\n",
    "a = \"'a' is not polluting global scope\"\n",
    "print(a)\n",
    "```"
   ]
  },
  {
   "cell_type": "code",
   "execution_count": null,
   "metadata": {},
   "outputs": [
    {
     "name": "stdout",
     "output_type": "stream",
     "text": [
      "\n",
      "### BEGIN\n",
      "def _test_cell_():\n",
      "\t#| echo: false\n",
      "\ta = \"'a' is not polluting global scope\"\n",
      "\treturn print(a) # %%testcell\n",
      "try:\n",
      "\t_ = _test_cell_()\n",
      "finally:\n",
      "\tdel _test_cell_\n",
      "_ # This will be added to global scope\n",
      "### END\n",
      "'a' is not polluting global scope\n"
     ]
    }
   ],
   "source": [
    "%%testcell verbose\n",
    "#| echo: false\n",
    "a = \"'a' is not polluting global scope\"\n",
    "print(a)"
   ]
  },
  {
   "cell_type": "markdown",
   "metadata": {},
   "source": [
    "Moreover, thanks to `ast`, it properly deals with complex situations like comments on the last line and multi lines statements"
   ]
  },
  {
   "cell_type": "markdown",
   "metadata": {},
   "source": [
    "```python\n",
    "%%testcell verbose\n",
    "a = \"'a' is not polluting global scope\"\n",
    "(a,\n",
    " True)\n",
    "# this is a comment on last line\n",
    "```"
   ]
  },
  {
   "cell_type": "code",
   "execution_count": null,
   "metadata": {},
   "outputs": [
    {
     "name": "stdout",
     "output_type": "stream",
     "text": [
      "\n",
      "### BEGIN\n",
      "def _test_cell_():\n",
      "\t#| echo: false\n",
      "\ta = \"'a' is not polluting global scope\"\n",
      "\treturn (a,\n",
      "\t True) # %%testcell\n",
      "try:\n",
      "\t_ = _test_cell_()\n",
      "finally:\n",
      "\tdel _test_cell_\n",
      "_ # This will be added to global scope\n",
      "### END\n"
     ]
    },
    {
     "data": {
      "text/plain": [
       "(\"'a' is not polluting global scope\", True)"
      ]
     },
     "execution_count": null,
     "metadata": {},
     "output_type": "execute_result"
    }
   ],
   "source": [
    "%%testcell verbose\n",
    "#| echo: false\n",
    "a = \"'a' is not polluting global scope\"\n",
    "(a,\n",
    " True)\n",
    "# this is a comment on last line"
   ]
  },
  {
   "cell_type": "markdown",
   "metadata": {},
   "source": [
    "### Run in isolation\n",
    "\n",
    "`%%testcelln` is a shortcut for `%%testcell noglobals` and executes the cell in complete isolation from the global scope. \n",
    "This is very useful when you want to ensure that global variables or namespaces are not accessible within the cell."
   ]
  },
  {
   "cell_type": "code",
   "execution_count": null,
   "metadata": {},
   "outputs": [],
   "source": [
    "aaa = 'global variable'"
   ]
  },
  {
   "cell_type": "markdown",
   "metadata": {},
   "source": [
    "```python\n",
    "%%testcell\n",
    "'aaa' in globals()\n",
    "```"
   ]
  },
  {
   "cell_type": "code",
   "execution_count": null,
   "metadata": {},
   "outputs": [
    {
     "data": {
      "text/plain": [
       "True"
      ]
     },
     "execution_count": null,
     "metadata": {},
     "output_type": "execute_result"
    }
   ],
   "source": [
    "%%testcell \n",
    "#| echo: false\n",
    "'aaa' in globals()"
   ]
  },
  {
   "cell_type": "markdown",
   "metadata": {},
   "source": [
    "```python\n",
    "%%testcell noglobals\n",
    "'aaa' in globals()\n",
    "```"
   ]
  },
  {
   "cell_type": "code",
   "execution_count": null,
   "metadata": {},
   "outputs": [
    {
     "data": {
      "text/plain": [
       "False"
      ]
     },
     "metadata": {},
     "output_type": "display_data"
    }
   ],
   "source": [
    "%%testcell noglobals\n",
    "#| echo: false\n",
    "'aaa' in globals()"
   ]
  },
  {
   "cell_type": "markdown",
   "metadata": {},
   "source": [
    "```python\n",
    "%%testcelln\n",
    "'aaa' in globals()\n",
    "```"
   ]
  },
  {
   "cell_type": "code",
   "execution_count": null,
   "metadata": {},
   "outputs": [
    {
     "data": {
      "text/plain": [
       "False"
      ]
     },
     "metadata": {},
     "output_type": "display_data"
    }
   ],
   "source": [
    "%%testcelln\n",
    "#| echo: false\n",
    "'aaa' in globals()"
   ]
  },
  {
   "cell_type": "markdown",
   "metadata": {},
   "source": [
    "```python\n",
    "%%testcelln\n",
    "globals().keys()\n",
    "```"
   ]
  },
  {
   "cell_type": "code",
   "execution_count": null,
   "metadata": {},
   "outputs": [
    {
     "data": {
      "text/plain": [
       "dict_keys(['__builtins__'])"
      ]
     },
     "metadata": {},
     "output_type": "display_data"
    }
   ],
   "source": [
    "%%testcelln\n",
    "#| echo: false\n",
    "globals().keys()"
   ]
  },
  {
   "cell_type": "markdown",
   "metadata": {},
   "source": [
    "With `%%testcelln` inside the cell, you'll be able to access only  to `__builtins__` (aka: standard python's functions). **It behaves like a notebook-in-notebook**."
   ]
  },
  {
   "cell_type": "markdown",
   "metadata": {},
   "source": [
    "```python\n",
    "%%testcell\n",
    "def my_function(x):\n",
    "    print(aaa) # global variable\n",
    "    return x\n",
    "\n",
    "try:\n",
    "    my_function(123)\n",
    "except Exception as e:\n",
    "    print(e)\n",
    "```"
   ]
  },
  {
   "cell_type": "code",
   "execution_count": null,
   "metadata": {},
   "outputs": [
    {
     "name": "stdout",
     "output_type": "stream",
     "text": [
      "global variable\n"
     ]
    }
   ],
   "source": [
    "%%testcell\n",
    "#| echo: false\n",
    "def my_function(x):\n",
    "    print(aaa) # global variable\n",
    "    return x\n",
    "\n",
    "try:\n",
    "    my_function(123)\n",
    "except Exception as e:\n",
    "    print(e)"
   ]
  },
  {
   "cell_type": "markdown",
   "metadata": {},
   "source": [
    "```python\n",
    "%%testcelln\n",
    "def my_function(x):\n",
    "    print(aaa) # global variable\n",
    "    return x\n",
    "\n",
    "try:\n",
    "    my_function(123)\n",
    "except Exception as e:\n",
    "    print(e)\n",
    "```"
   ]
  },
  {
   "cell_type": "code",
   "execution_count": null,
   "metadata": {},
   "outputs": [
    {
     "name": "stdout",
     "output_type": "stream",
     "text": [
      "name 'aaa' is not defined\n"
     ]
    }
   ],
   "source": [
    "%%testcelln\n",
    "#| echo: false\n",
    "def my_function(x):\n",
    "    print(aaa) # global variable\n",
    "    return x\n",
    "\n",
    "try:\n",
    "    my_function(123)\n",
    "except Exception as e:\n",
    "    print(e)"
   ]
  },
  {
   "cell_type": "markdown",
   "metadata": {},
   "source": [
    "As you can see from this last example, `%%testcelln` helps you to identify that `my_function` refers global variable `aaa`."
   ]
  },
  {
   "cell_type": "markdown",
   "metadata": {},
   "source": [
    "**IMPORTANT**: this is *just wrapping your cell*  and so it's still running on your main kernel. If you modify variables that has been created outside of this cell (aka: if you have side effects) this will not protect you."
   ]
  },
  {
   "cell_type": "code",
   "execution_count": null,
   "metadata": {},
   "outputs": [
    {
     "data": {
      "text/plain": [
       "'global variable'"
      ]
     },
     "execution_count": null,
     "metadata": {},
     "output_type": "execute_result"
    }
   ],
   "source": [
    "aaa"
   ]
  },
  {
   "cell_type": "markdown",
   "metadata": {},
   "source": [
    "```python\n",
    "%%testcell \n",
    "# WARNING: this will alter the state of global variable:\n",
    "globals().update({'aaa' : 'modified global variable'});\n",
    "```"
   ]
  },
  {
   "cell_type": "code",
   "execution_count": null,
   "metadata": {},
   "outputs": [],
   "source": [
    "%%testcell \n",
    "#| echo: false\n",
    "# WARNING: this will alter the state of global variable:\n",
    "globals().update({'aaa' : 'modified global variable'});"
   ]
  },
  {
   "cell_type": "code",
   "execution_count": null,
   "metadata": {},
   "outputs": [
    {
     "data": {
      "text/plain": [
       "'modified global variable'"
      ]
     },
     "execution_count": null,
     "metadata": {},
     "output_type": "execute_result"
    }
   ],
   "source": [
    "aaa"
   ]
  },
  {
   "cell_type": "code",
   "execution_count": null,
   "metadata": {},
   "outputs": [],
   "source": [
    "del aaa"
   ]
  },
  {
   "cell_type": "markdown",
   "metadata": {},
   "source": [
    "## Links:\n",
    "\n",
    "+ PROJECT PAGE: [https://github.com/artste/testcell](https://github.com/artste/testcell)\n",
    "+ DOCUMENTATION: [https://artste.github.io/testcell](https://artste.github.io/testcell)\n",
    "+ PYPI: [https://pypi.org/project/testcell](https://pypi.org/project/testcell)\n",
    "+ COLAB DEMO: [testcell_demo.ipynb](https://colab.research.google.com/github/artste/testcell/blob/main/demo/testcell_demo.ipynb)\n",
    "+ KAGGLE SAMPLE NOTEBOOK: [https://www.kaggle.com/artste/introducing-testcell](https://www.kaggle.com/artste/introducing-testcell)"
   ]
  },
  {
   "cell_type": "markdown",
   "metadata": {},
   "source": [
    "## Todo:\n",
    "\n",
    "+ Install as a plugin to enable it by default like other cell's magic."
   ]
  }
 ],
 "metadata": {
  "kernelspec": {
   "display_name": "python3",
   "language": "python",
   "name": "python3"
  }
 },
 "nbformat": 4,
 "nbformat_minor": 4
}
