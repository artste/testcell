{
 "cells": [
  {
   "cell_type": "markdown",
   "metadata": {},
   "source": [
    "# Implementation details\n",
    "\n",
    "This section describes how `%%testcell` has been implemented under the hood."
   ]
  },
  {
   "cell_type": "markdown",
   "metadata": {},
   "source": [
    "**NOTE**: we use `default_exp __init__` in order to enable this as soon as you import the module."
   ]
  },
  {
   "cell_type": "markdown",
   "metadata": {},
   "source": [
    "**WARNING**: cells magic are striped out during documentation generation; this is the reason why there is the same cell magic as comment too."
   ]
  },
  {
   "cell_type": "code",
   "execution_count": null,
   "metadata": {},
   "outputs": [],
   "source": [
    "#| default_exp __init__"
   ]
  },
  {
   "cell_type": "code",
   "execution_count": null,
   "metadata": {},
   "outputs": [],
   "source": [
    "#| export\n",
    "import ast\n",
    "from IPython.core.magic import register_cell_magic, needs_local_scope\n",
    "from IPython import get_ipython # needed for quarto"
   ]
  },
  {
   "cell_type": "code",
   "execution_count": null,
   "metadata": {},
   "outputs": [],
   "source": [
    "#| export\n",
    "from testcell.core import auto_display"
   ]
  },
  {
   "cell_type": "code",
   "execution_count": null,
   "metadata": {},
   "outputs": [],
   "source": [
    "#| export\n",
    "@register_cell_magic\n",
    "@needs_local_scope\n",
    "def testcell(line, cell, local_ns):\n",
    "    if not ('skipdisplay' in line): cell = auto_display(cell)\n",
    "    lines = cell.splitlines()\n",
    "\n",
    "    # Wrap inside a function\n",
    "    ret = ['def _test_cell_():']\n",
    "    ret += ['\\t'+x for x in lines]\n",
    "    ret += ['try:\\n\\t_test_cell_()'] # execute it!\n",
    "    ret += ['finally:\\n\\tdel _test_cell_'] # delete it\n",
    "    wrapped_cell = '\\n'.join(ret)\n",
    "\n",
    "    if ('verbose' in line) or ('dryrun' in line): print('\\n### BEGIN\\n'+wrapped_cell+'\\n### END')\n",
    "\n",
    "    _globals = {} if ('noglobals' in line) else local_ns\n",
    "    if not 'dryrun' in line: exec(wrapped_cell,_globals)\n",
    "\n",
    "    if 'return_wrapped_cell' in line: return line, wrapped_cell\n",
    "    else: pass"
   ]
  },
  {
   "cell_type": "markdown",
   "metadata": {},
   "source": [
    "**IMPORTANT:** explicitly injectiong `globals` in exec is very important because the default behaviour may be different across multiple versions of IPython/Jupyter."
   ]
  },
  {
   "cell_type": "markdown",
   "metadata": {},
   "source": [
    "Let's define `%%testcelln`: a shortcut to `%%testcell noglobals`"
   ]
  },
  {
   "cell_type": "code",
   "execution_count": null,
   "metadata": {},
   "outputs": [],
   "source": [
    "#| export\n",
    "@register_cell_magic\n",
    "@needs_local_scope\n",
    "def testcelln(line, cell, local_ns):\n",
    "    return testcell(line=line+ ' noglobals', cell=cell, local_ns=local_ns)"
   ]
  },
  {
   "cell_type": "code",
   "execution_count": null,
   "metadata": {},
   "outputs": [],
   "source": [
    "aaa = \"I'm in global scope\""
   ]
  },
  {
   "cell_type": "code",
   "execution_count": null,
   "metadata": {},
   "outputs": [
    {
     "name": "stdout",
     "output_type": "stream",
     "text": [
      "\"aaa\" variable is in scope: True\n"
     ]
    }
   ],
   "source": [
    "%%testcell\n",
    "# %%testcell\n",
    "print('\"aaa\" variable is in scope:','aaa' in globals().keys())"
   ]
  },
  {
   "cell_type": "code",
   "execution_count": null,
   "metadata": {},
   "outputs": [
    {
     "name": "stdout",
     "output_type": "stream",
     "text": [
      "\"aaa\" variable is in scope: False\n"
     ]
    }
   ],
   "source": [
    "%%testcelln\n",
    "# %%testcelln\n",
    "print('\"aaa\" variable is in scope:','aaa' in globals().keys())"
   ]
  },
  {
   "cell_type": "code",
   "execution_count": null,
   "metadata": {},
   "outputs": [],
   "source": [
    "del aaa"
   ]
  },
  {
   "cell_type": "markdown",
   "metadata": {},
   "source": [
    "### Standard use cases"
   ]
  },
  {
   "cell_type": "markdown",
   "metadata": {},
   "source": [
    "Common use case when you want to seamlessly display the output of a computation"
   ]
  },
  {
   "cell_type": "code",
   "execution_count": null,
   "metadata": {},
   "outputs": [
    {
     "data": {
      "text/plain": [
       "4"
      ]
     },
     "metadata": {},
     "output_type": "display_data"
    }
   ],
   "source": [
    "%%testcell\n",
    "# %%testcell\n",
    "a=1\n",
    "a=a+3\n",
    "a"
   ]
  },
  {
   "cell_type": "markdown",
   "metadata": {},
   "source": [
    "Despite this seems to be a *normal cell* variable `a` is not part of the global scope."
   ]
  },
  {
   "cell_type": "code",
   "execution_count": null,
   "metadata": {},
   "outputs": [],
   "source": [
    "assert 'a' not in locals()"
   ]
  },
  {
   "cell_type": "markdown",
   "metadata": {},
   "source": [
    "If the last statement is a `display` or a `print` it works in any case"
   ]
  },
  {
   "cell_type": "code",
   "execution_count": null,
   "metadata": {},
   "outputs": [
    {
     "data": {
      "text/plain": [
       "4"
      ]
     },
     "metadata": {},
     "output_type": "display_data"
    }
   ],
   "source": [
    "%%testcell\n",
    "# %%testcell\n",
    "a=1\n",
    "a=a+3\n",
    "display(a)"
   ]
  },
  {
   "cell_type": "markdown",
   "metadata": {},
   "source": [
    "All major use cases should be covered:"
   ]
  },
  {
   "cell_type": "code",
   "execution_count": null,
   "metadata": {},
   "outputs": [
    {
     "data": {
      "text/plain": [
       "1"
      ]
     },
     "metadata": {},
     "output_type": "display_data"
    }
   ],
   "source": [
    "%%testcell\n",
    "# %%testcell\n",
    "\n",
    "# simple inline\n",
    "a=1; a"
   ]
  },
  {
   "cell_type": "code",
   "execution_count": null,
   "metadata": {},
   "outputs": [
    {
     "data": {
      "text/plain": [
       "{'value': 1, 'note': 'complex multi line statement'}"
      ]
     },
     "metadata": {},
     "output_type": "display_data"
    }
   ],
   "source": [
    "%%testcell\n",
    "# %%testcell\n",
    "\n",
    "# complex inline\n",
    "a=1; {'value': a,\n",
    "      'note': 'complex multi line statement'}"
   ]
  },
  {
   "cell_type": "code",
   "execution_count": null,
   "metadata": {},
   "outputs": [],
   "source": [
    "assert 'a' not in locals()"
   ]
  },
  {
   "cell_type": "markdown",
   "metadata": {},
   "source": [
    "### Available options\n",
    "\n",
    "This magic supports the following options:\n",
    "\n",
    "+ `noglobals` : this runs the cell in a completely isolated environment\n",
    "+ `verbose` : it prints out the code before executing it\n",
    "+ `dryrun` : just print the code without executing it\n",
    "+ `skipdisplay` : do not try to wrap last line in a `display` statement."
   ]
  },
  {
   "cell_type": "markdown",
   "metadata": {},
   "source": [
    "Here are the examples"
   ]
  },
  {
   "cell_type": "code",
   "execution_count": null,
   "metadata": {},
   "outputs": [
    {
     "data": {
      "text/plain": [
       "dict_keys(['__builtins__', '_test_cell_'])"
      ]
     },
     "metadata": {},
     "output_type": "display_data"
    }
   ],
   "source": [
    "%%testcell noglobals\n",
    "# %%testcell noglobals\n",
    "globals().keys()"
   ]
  },
  {
   "cell_type": "code",
   "execution_count": null,
   "metadata": {},
   "outputs": [
    {
     "name": "stdout",
     "output_type": "stream",
     "text": [
      "\n",
      "### BEGIN\n",
      "def _test_cell_():\n",
      "\t# %%testcell verbose\n",
      "\tb=1\n",
      "\tdisplay( # %%testcell\n",
      "\tb\n",
      "\t) # %%testcell\n",
      "try:\n",
      "\t_test_cell_()\n",
      "finally:\n",
      "\tdel _test_cell_\n",
      "### END\n"
     ]
    },
    {
     "data": {
      "text/plain": [
       "1"
      ]
     },
     "metadata": {},
     "output_type": "display_data"
    }
   ],
   "source": [
    "%%testcell verbose\n",
    "# %%testcell verbose\n",
    "b=1\n",
    "b"
   ]
  },
  {
   "cell_type": "code",
   "execution_count": null,
   "metadata": {},
   "outputs": [
    {
     "name": "stdout",
     "output_type": "stream",
     "text": [
      "\n",
      "### BEGIN\n",
      "def _test_cell_():\n",
      "\t# %%testcell dryrun\n",
      "\tb=1\n",
      "\tdisplay( # %%testcell\n",
      "\tb\n",
      "\t) # %%testcell\n",
      "try:\n",
      "\t_test_cell_()\n",
      "finally:\n",
      "\tdel _test_cell_\n",
      "### END\n"
     ]
    }
   ],
   "source": [
    "%%testcell dryrun\n",
    "# %%testcell dryrun\n",
    "b=1\n",
    "b"
   ]
  },
  {
   "cell_type": "code",
   "execution_count": null,
   "metadata": {},
   "outputs": [
    {
     "name": "stdout",
     "output_type": "stream",
     "text": [
      "\n",
      "### BEGIN\n",
      "def _test_cell_():\n",
      "\t# %%testcell dryrun skipdisplay\n",
      "\tb=1\n",
      "\tb\n",
      "try:\n",
      "\t_test_cell_()\n",
      "finally:\n",
      "\tdel _test_cell_\n",
      "### END\n"
     ]
    }
   ],
   "source": [
    "%%testcell dryrun skipdisplay\n",
    "# %%testcell dryrun skipdisplay\n",
    "b=1\n",
    "b"
   ]
  },
  {
   "cell_type": "markdown",
   "metadata": {},
   "source": [
    "Finally it properly works with any kind od *displayable* output too:"
   ]
  },
  {
   "cell_type": "code",
   "execution_count": null,
   "metadata": {},
   "outputs": [],
   "source": [
    "# test imports\n",
    "from PIL import Image\n",
    "import numpy\n",
    "import matplotlib.pyplot as plt"
   ]
  },
  {
   "cell_type": "code",
   "execution_count": null,
   "metadata": {},
   "outputs": [
    {
     "data": {
      "image/png": "[encoded data removed]",
      "text/plain": [
       "<PIL.Image.Image image mode=RGB size=100x100>"
      ]
     },
     "metadata": {},
     "output_type": "display_data"
    }
   ],
   "source": [
    "%%testcell\n",
    "# %%testcell\n",
    "rng = numpy.random.default_rng(1234)\n",
    "arr = rng.uniform(size=( 100,100,3)) * 255\n",
    "img = Image.fromarray(arr.astype('uint8')).convert('RGB')\n",
    "assert 'img' in locals()\n",
    "img"
   ]
  },
  {
   "cell_type": "code",
   "execution_count": null,
   "metadata": {},
   "outputs": [],
   "source": [
    "# Out of the test cell `img` has been removed\n",
    "assert 'img' not in locals()"
   ]
  },
  {
   "cell_type": "code",
   "execution_count": null,
   "metadata": {},
   "outputs": [
    {
     "data": {
      "image/png": "[encoded data removed]",
      "text/plain": [
       "<Figure size 640x480 with 1 Axes>"
      ]
     },
     "metadata": {},
     "output_type": "display_data"
    }
   ],
   "source": [
    "%%testcell\n",
    "# %%testcell\n",
    "plt.plot([1,3,9,2,4,3,6])\n",
    "plt.title('test with matplotlib');"
   ]
  },
  {
   "cell_type": "code",
   "execution_count": null,
   "metadata": {},
   "outputs": [],
   "source": [
    "#| hide\n",
    "import nbdev; nbdev.nbdev_export()"
   ]
  }
 ],
 "metadata": {
  "kernelspec": {
   "display_name": "python3",
   "language": "python",
   "name": "python3"
  }
 },
 "nbformat": 4,
 "nbformat_minor": 4
}
