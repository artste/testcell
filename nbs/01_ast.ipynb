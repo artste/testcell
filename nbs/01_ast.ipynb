{
 "cells": [
  {
   "cell_type": "markdown",
   "metadata": {},
   "source": [
    "# auto_return"
   ]
  },
  {
   "cell_type": "markdown",
   "metadata": {},
   "source": [
    "This section utilizes the standard Python `ast` (Abstract Syntax Tree) package to implement the `auto_return` function. The purpose of this function is to determine whether or not the last line of a given block of code should be returned and to appropriately add the `return` statement if necessary.\n",
    "\n",
    "The following are the main steps involved:\n",
    "\n",
    "+ Extract the last statement in the cell code.\n",
    "+ Determine if it can (or should) be returned.\n",
    "+ Modify the code and add the return statement.\n",
    "\n",
    "Please note that `auto_return` is the core component of `testcell`. By utilizing ast, we can handle arbitrary code in a robust and consistent manner."
   ]
  },
  {
   "cell_type": "markdown",
   "metadata": {},
   "source": [
    "**NOTE ON REFACTORING FROM `auto_display` TO `auto_return`**\n",
    "\n",
    "Previously, this code was based on the `auto_display` function, which wrapped the last line of the code with a `display` statement if necessary. While this approach *appeared to be correct in most situations*, it didn't accurately match the behavior of Jupyter cells.\n",
    "\n",
    "What a jupyter cell does is to *optionally return the **value** of the last statement*; this **value** is in general an object that can implement `__repr__` and `__str__` and these dunders will be used by jupyter/IPython to decide how to display that **value**.\n",
    "\n",
    "The current implementation instead, attempts to decide whether to add a `return` statement and defers the display of that **value** to the actual notebook infrastructure."
   ]
  },
  {
   "cell_type": "code",
   "execution_count": null,
   "metadata": {},
   "outputs": [],
   "source": [
    "#| default_exp core"
   ]
  },
  {
   "cell_type": "code",
   "execution_count": null,
   "metadata": {},
   "outputs": [],
   "source": [
    "#| export\n",
    "import ast"
   ]
  },
  {
   "cell_type": "code",
   "execution_count": null,
   "metadata": {},
   "outputs": [],
   "source": [
    "#| export\n",
    "def last_node(code):\n",
    "    tree = ast.parse(code)\n",
    "    if len(tree.body)==0: return None\n",
    "    src = tree.body[-1]\n",
    "    last_node = None\n",
    "    parent_node = None\n",
    "    for node in ast.walk(src):\n",
    "        if isinstance(node, ast.stmt):\n",
    "            parent_node = last_node\n",
    "            last_node = node\n",
    "    if parent_node is not None: return None # deal with nested statements like \"for loop\".\n",
    "    return last_node"
   ]
  },
  {
   "cell_type": "code",
   "execution_count": null,
   "metadata": {},
   "outputs": [],
   "source": [
    "from fastcore.test import *"
   ]
  },
  {
   "cell_type": "code",
   "execution_count": null,
   "metadata": {},
   "outputs": [],
   "source": [
    "#| export \n",
    "def node_source(node,code):\n",
    "    return ast.get_source_segment(code,node)"
   ]
  },
  {
   "cell_type": "code",
   "execution_count": null,
   "metadata": {},
   "outputs": [],
   "source": [
    "#| test\n",
    "sample_code = '''\n",
    "a = 1\n",
    "b = 2\n",
    "c = a+b;\n",
    "# test\n",
    "'''\n",
    "test_eq(node_source(last_node(sample_code),sample_code), 'c = a+b')"
   ]
  },
  {
   "cell_type": "code",
   "execution_count": null,
   "metadata": {},
   "outputs": [],
   "source": [
    "#| test\n",
    "sample_code = '''\n",
    "def my_function(x):\n",
    "    print(aaa)\n",
    "    return x\n",
    "    \n",
    "my_function(123)\n",
    "'''\n",
    "test_eq(node_source(last_node(sample_code),sample_code), 'my_function(123)')"
   ]
  },
  {
   "cell_type": "code",
   "execution_count": null,
   "metadata": {},
   "outputs": [],
   "source": [
    "#| test\n",
    "sample_code = ''\n",
    "test_eq(node_source(last_node(sample_code),sample_code), None) # No code should display nothing"
   ]
  },
  {
   "cell_type": "code",
   "execution_count": null,
   "metadata": {},
   "outputs": [],
   "source": [
    "#| test\n",
    "sample_code = '''\n",
    "for i in [1,2,3]:i\n",
    "'''\n",
    "test_eq(node_source(last_node(sample_code),sample_code), None) # should not display anyhting"
   ]
  },
  {
   "cell_type": "code",
   "execution_count": null,
   "metadata": {},
   "outputs": [],
   "source": [
    "#| test\n",
    "sample_code = '''\n",
    "t=0 # sample assignment in the same cell\n",
    "with open('test.txt') as f: \n",
    "    f.readlines()\n",
    "'''\n",
    "test_eq(node_source(last_node(sample_code),sample_code), None) # with block should catch implicit output"
   ]
  },
  {
   "cell_type": "code",
   "execution_count": null,
   "metadata": {},
   "outputs": [],
   "source": [
    "#| export\n",
    "def is_assignment(node):\n",
    "    return isinstance(node, ast.Assign)"
   ]
  },
  {
   "cell_type": "code",
   "execution_count": null,
   "metadata": {},
   "outputs": [],
   "source": [
    "#| test\n",
    "test_eq( is_assignment( last_node('a = 1\\nb = 2\\nc = a+b')), True )\n",
    "test_eq( is_assignment( last_node('a = 1\\nb = 2\\nc = a+b\\nc')), False )\n",
    "test_eq( is_assignment( last_node('c')), False )\n",
    "test_eq( is_assignment( last_node('a=1')),True)\n",
    "test_eq( is_assignment( last_node('a = function_execution()')),True)\n",
    "test_eq( is_assignment( last_node('a;')),False)\n",
    "test_eq( is_assignment( last_node('a')),False)\n",
    "test_eq( is_assignment( last_node('a - function_execution()')),False)"
   ]
  },
  {
   "cell_type": "code",
   "execution_count": null,
   "metadata": {},
   "outputs": [],
   "source": [
    "#|export\n",
    "def extract_call(node):\n",
    "    if not isinstance(node, ast.Expr): return None\n",
    "    node = node.value # step in\n",
    "    if isinstance(node, ast.Name): return None # \"fn\"\n",
    "    if isinstance(node, ast.Call):\n",
    "        n = node.func # step in\n",
    "        if isinstance(n, ast.Name): return n.id # \"fn()\"\n",
    "        if isinstance(n, ast.Attribute): return n.attr\n",
    "    return None # all the rest is not supported"
   ]
  },
  {
   "cell_type": "code",
   "execution_count": null,
   "metadata": {},
   "outputs": [],
   "source": [
    "#| test\n",
    "\n",
    "# OK\n",
    "test_eq(extract_call(last_node('fn()')), 'fn')\n",
    "test_eq(extract_call(last_node('x.fn()')), 'fn')\n",
    "test_eq(extract_call(last_node('x.y.fn()')), 'fn')\n",
    "test_eq(extract_call(last_node('x.y.z.fn()')), 'fn')\n",
    "\n",
    "# KO\n",
    "test_eq(extract_call(last_node('(fn)')), None)\n",
    "test_eq(extract_call(last_node('fn')), None)\n",
    "test_eq(extract_call(last_node('(fn(),fn)')), None)\n",
    "test_eq(extract_call(last_node('(x.y.fn(),fn())')), None)"
   ]
  },
  {
   "cell_type": "code",
   "execution_count": null,
   "metadata": {},
   "outputs": [],
   "source": [
    "#| export\n",
    "def is_import_statement(node):\n",
    "    return isinstance(node, (ast.Import, ast.ImportFrom))"
   ]
  },
  {
   "cell_type": "code",
   "execution_count": null,
   "metadata": {},
   "outputs": [],
   "source": [
    "#| test\n",
    "test_eq( is_import_statement(last_node('123')) , False )\n",
    "test_eq( is_import_statement(last_node('func(123)')) , False )\n",
    "test_eq( is_import_statement(last_node('# test')) , False )\n",
    "test_eq( is_import_statement(last_node('# import numpy')) , False )\n",
    "test_eq( is_import_statement(last_node('import numpy')) , True )\n",
    "test_eq( is_import_statement(last_node('from PIL import Image')) , True )"
   ]
  },
  {
   "cell_type": "code",
   "execution_count": null,
   "metadata": {},
   "outputs": [],
   "source": [
    "#| export\n",
    "def is_ast_node(x,ref):\n",
    "    for t in ref:\n",
    "        if isinstance(x,t): return True\n",
    "    return False"
   ]
  },
  {
   "cell_type": "code",
   "execution_count": null,
   "metadata": {},
   "outputs": [],
   "source": [
    "#| test\n",
    "test_eq(is_ast_node(last_node('del a'),[ast.Delete]), True)\n",
    "test_eq(is_ast_node(last_node('del a'),[ast.Assert]), False)\n",
    "test_eq(is_ast_node(last_node('a==1'),[ast.Assert]), False)"
   ]
  },
  {
   "cell_type": "markdown",
   "metadata": {},
   "source": [
    "NOTE: I can't came around with any common propety to mark statements like `del a` and `assert b==1`. The only way I've found is to hardcode a comparison against these language statements."
   ]
  },
  {
   "cell_type": "code",
   "execution_count": null,
   "metadata": {},
   "outputs": [],
   "source": [
    "#| export\n",
    "def need_return(node):\n",
    "    if node is None: return False\n",
    "    if is_assignment(node): return False\n",
    "    if is_ast_node(node,ref=[ast.Delete, ast.Assert, ast.Global, ast.Nonlocal]): return False\n",
    "    if is_import_statement(node): return False\n",
    "    return True"
   ]
  },
  {
   "cell_type": "code",
   "execution_count": null,
   "metadata": {},
   "outputs": [],
   "source": [
    "#| test\n",
    "# The following are a bunch of real use cases we want to test.\n",
    "# NOTE: not considering \";\"\n",
    "\n",
    "# Let's define a test utility function\n",
    "def test_need_return(code): return need_return(last_node(code))\n",
    "\n",
    "# SHOULD BE TRUE\n",
    "test_eq( test_need_return('a') , True )\n",
    "#test_eq( test_need_return('a;') , False ) # This is not supported with ast: we should do it differently\n",
    "test_eq( test_need_return('func(a)') , True )\n",
    "test_eq( test_need_return('{1:1,2:2}') , True )\n",
    "test_eq( test_need_return('a in b') , True )\n",
    "test_eq( test_need_return('a in b') , True )\n",
    "test_eq( test_need_return('1 if True else None'), True)\n",
    "\n",
    "# SHOULD BE FALSE\n",
    "test_eq( test_need_return('display(a)') , True )\n",
    "test_eq( test_need_return('# xxx') , False )\n",
    "test_eq( test_need_return('print(a)') , True )\n",
    "test_eq( test_need_return('import xxx') , False )\n",
    "test_eq( test_need_return('from xxx import yyy') , False )\n",
    "test_eq( test_need_return('a=1') , False )\n",
    "test_eq( test_need_return('for a in [1,2,3]: a') , False )\n",
    "test_eq( test_need_return('del a') , False )\n",
    "test_eq( test_need_return('a=1; del a') , False )\n",
    "test_eq( test_need_return('assert a(b)==1') , False )\n",
    "test_eq( test_need_return('try: a=0\\nexcept: a=1') , False )\n",
    "test_eq( test_need_return('from numpy import array') , False )\n",
    "test_eq( test_need_return('global a') , False )\n",
    "test_eq( test_need_return('nonlocal a') , False )"
   ]
  },
  {
   "cell_type": "code",
   "execution_count": null,
   "metadata": {},
   "outputs": [],
   "source": [
    "#| export\n",
    "def end_of_last_line_of_code(code:str,node):\n",
    "    if node is None: return ''\n",
    "    t = code.splitlines()\n",
    "    t = t[:node.lineno]\n",
    "    return t[-1][node.end_col_offset:]"
   ]
  },
  {
   "cell_type": "code",
   "execution_count": null,
   "metadata": {},
   "outputs": [],
   "source": [
    "def do_test_end_of_last_line_of_code(sample_code):\n",
    "    return end_of_last_line_of_code(sample_code, last_node(sample_code))\n",
    "\n",
    "test_eq( do_test_end_of_last_line_of_code('a=1') , '' ) # one line\n",
    "test_eq( do_test_end_of_last_line_of_code('a=1\\na') , '' ) # two lines\n",
    "test_eq( do_test_end_of_last_line_of_code('a=1\\na\\n') , '' ) # two lines\n",
    "test_eq( do_test_end_of_last_line_of_code('a=1 # comment') , ' # comment' ) # one line and comment\n",
    "test_eq( do_test_end_of_last_line_of_code('a=1; # comment') , '; # comment' ) # one line and comment\n",
    "test_eq( do_test_end_of_last_line_of_code('a=1\\na; # comment') , '; # comment' ) # two lines and comment"
   ]
  },
  {
   "cell_type": "markdown",
   "metadata": {},
   "source": [
    "**NOTE**: we need to make the check on `;` semicolon using string because `ast` ignores it."
   ]
  },
  {
   "cell_type": "code",
   "execution_count": null,
   "metadata": {},
   "outputs": [],
   "source": [
    "#| export\n",
    "def last_statement_has_semicolon(code):\n",
    "    e = end_of_last_line_of_code(code, last_node(code))\n",
    "    e = e.strip()\n",
    "    return e.startswith(';')"
   ]
  },
  {
   "cell_type": "code",
   "execution_count": null,
   "metadata": {},
   "outputs": [],
   "source": [
    "test_eq( last_statement_has_semicolon('a=1\\nb=2') , False )\n",
    "test_eq( last_statement_has_semicolon('a=1\\nb=2;') , True )\n",
    "test_eq( last_statement_has_semicolon('a=1\\nb=2\\n# test') , False )\n",
    "test_eq( last_statement_has_semicolon('a=1\\nb=2;\\n# test') , True )\n",
    "\n",
    "# with comment in the end\n",
    "test_eq( last_statement_has_semicolon('a=1\\na # comment'), False)\n",
    "test_eq( last_statement_has_semicolon('a=\"# fake comment\"\\na; # real comment'), True)"
   ]
  },
  {
   "cell_type": "markdown",
   "metadata": {},
   "source": [
    "Finally we need a way to grab the code till a given `ast` node in order to properly inject the `return` statement. "
   ]
  },
  {
   "cell_type": "code",
   "execution_count": null,
   "metadata": {},
   "outputs": [],
   "source": [
    "#| export\n",
    "def code_till_node(code:str,node):\n",
    "    if node is None: return code\n",
    "    t = code.splitlines()\n",
    "    t = t[:node.lineno]\n",
    "    t[-1] = t[-1][:node.col_offset]\n",
    "    if len(t[-1])==0: t = t[:-1]\n",
    "    return '\\n'.join(t)"
   ]
  },
  {
   "cell_type": "code",
   "execution_count": null,
   "metadata": {},
   "outputs": [],
   "source": [
    "def do_test_code_till_node(sample_code):\n",
    "    return code_till_node(sample_code, last_node(sample_code))\n",
    "    \n",
    "test_eq( do_test_code_till_node('a=1\\na') , 'a=1' ) # two lines\n",
    "test_eq( do_test_code_till_node('a=1;a') , 'a=1;' ) # inlined\n",
    "test_eq( do_test_code_till_node('a=1;a\\n#') , 'a=1;' ) # with post-comment\n",
    "test_eq( do_test_code_till_node('a=1;print(\\na)') , 'a=1;' ) # multiline instruction\n",
    "test_eq( do_test_code_till_node('print(1,\\n2);print(\\na)') , 'print(1,\\n2);' ) # all together"
   ]
  },
  {
   "cell_type": "markdown",
   "metadata": {},
   "source": [
    "`auto_return` is the main function of this module, and it determines whether a given line of code should be returned or not. It returns the modified code with that modification applied if necessary.\n",
    "\n",
    "NOTE: the comment `# %%testcell` is added to signal the row that has been modified."
   ]
  },
  {
   "cell_type": "code",
   "execution_count": null,
   "metadata": {},
   "outputs": [],
   "source": [
    "#| export\n",
    "def auto_return(code):\n",
    "    if last_statement_has_semicolon(code): return code\n",
    "    \n",
    "    n = last_node(code)\n",
    "    if not need_return(n): return code\n",
    "    \n",
    "    ns = node_source(n,code)\n",
    "    ret = code_till_node(code, last_node(code))\n",
    "    ret += f'\\nreturn {ns} # %%testcell'\n",
    "    return ret"
   ]
  },
  {
   "cell_type": "code",
   "execution_count": null,
   "metadata": {},
   "outputs": [],
   "source": [
    "test_eq( auto_return('a=1\\na'), 'a=1\\nreturn a # %%testcell' )\n",
    "test_eq( auto_return('a=1\\na;'), 'a=1\\na;' )"
   ]
  },
  {
   "cell_type": "code",
   "execution_count": null,
   "metadata": {},
   "outputs": [
    {
     "name": "stdout",
     "output_type": "stream",
     "text": [
      "a=1\n",
      "return a # %%testcell\n"
     ]
    }
   ],
   "source": [
    "print(auto_return('a=1\\na'))"
   ]
  },
  {
   "cell_type": "code",
   "execution_count": null,
   "metadata": {},
   "outputs": [
    {
     "name": "stdout",
     "output_type": "stream",
     "text": [
      "a=3\n",
      "a;\n"
     ]
    }
   ],
   "source": [
    "print(auto_return('a=3\\na;'))"
   ]
  },
  {
   "cell_type": "code",
   "execution_count": null,
   "metadata": {},
   "outputs": [],
   "source": [
    "#| hide\n",
    "import nbdev; nbdev.nbdev_export()"
   ]
  }
 ],
 "metadata": {
  "kernelspec": {
   "display_name": "python3",
   "language": "python",
   "name": "python3"
  }
 },
 "nbformat": 4,
 "nbformat_minor": 4
}
