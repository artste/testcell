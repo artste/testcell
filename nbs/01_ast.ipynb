{
 "cells": [
  {
   "cell_type": "markdown",
   "metadata": {},
   "source": [
    "# auto_display"
   ]
  },
  {
   "cell_type": "markdown",
   "metadata": {},
   "source": [
    "This section leverages standard python `ast` (Abstract Syntax Tree) package to implement the `auto_display` function.\n",
    "These are the main  steps involded:\n",
    "\n",
    "* Extract the last *statement* in the cell code.\n",
    "* Decide if it can (or should) be *wrapped* with a call to `display`.\n",
    "* Perform the wrap.\n",
    "\n",
    "`auto_display` is the core component of `testcell`. Using `ast` we have robust and consistent parsing even of multi-line python statements."
   ]
  },
  {
   "cell_type": "code",
   "execution_count": null,
   "metadata": {},
   "outputs": [],
   "source": [
    "#| default_exp core"
   ]
  },
  {
   "cell_type": "code",
   "execution_count": null,
   "metadata": {},
   "outputs": [],
   "source": [
    "#| export\n",
    "import ast"
   ]
  },
  {
   "cell_type": "raw",
   "metadata": {},
   "source": [
    "#| export\n",
    "NodeAndCode = namedtuple('NodeAndCode','node code')"
   ]
  },
  {
   "cell_type": "code",
   "execution_count": null,
   "metadata": {},
   "outputs": [],
   "source": [
    "#| export\n",
    "def last_node(code):\n",
    "    tree = ast.parse(code)\n",
    "    last_node = None\n",
    "    for node in ast.walk(tree):\n",
    "        if isinstance(node, ast.stmt):\n",
    "            last_node = node\n",
    "    return last_node"
   ]
  },
  {
   "cell_type": "code",
   "execution_count": null,
   "metadata": {},
   "outputs": [],
   "source": [
    "from fastcore.test import *"
   ]
  },
  {
   "cell_type": "code",
   "execution_count": null,
   "metadata": {},
   "outputs": [],
   "source": [
    "#| export \n",
    "def node_source(node,code):\n",
    "    return ast.get_source_segment(code,node)"
   ]
  },
  {
   "cell_type": "code",
   "execution_count": null,
   "metadata": {},
   "outputs": [],
   "source": [
    "#| test\n",
    "sample_code = '''\n",
    "a = 1\n",
    "b = 2\n",
    "c = a+b;\n",
    "# test\n",
    "'''\n",
    "test_eq(node_source(last_node(sample_code),sample_code), 'c = a+b')"
   ]
  },
  {
   "cell_type": "code",
   "execution_count": null,
   "metadata": {},
   "outputs": [],
   "source": [
    "#| export\n",
    "def is_assignment(node):\n",
    "    return isinstance(node, ast.Assign)"
   ]
  },
  {
   "cell_type": "code",
   "execution_count": null,
   "metadata": {},
   "outputs": [],
   "source": [
    "#| test\n",
    "test_eq( is_assignment( last_node('a = 1\\nb = 2\\nc = a+b')), True )\n",
    "test_eq( is_assignment( last_node('a = 1\\nb = 2\\nc = a+b\\nc')), False )\n",
    "test_eq( is_assignment( last_node('c')), False )\n",
    "test_eq( is_assignment( last_node('a=1')),True)\n",
    "test_eq( is_assignment( last_node('a = function_execution()')),True)\n",
    "test_eq( is_assignment( last_node('a;')),False)\n",
    "test_eq( is_assignment( last_node('a')),False)\n",
    "test_eq( is_assignment( last_node('a - function_execution()')),False)"
   ]
  },
  {
   "cell_type": "code",
   "execution_count": null,
   "metadata": {},
   "outputs": [],
   "source": [
    "#|export\n",
    "def extract_call(node):\n",
    "    if not isinstance(node, ast.Expr): return None\n",
    "    node = node.value # step in\n",
    "    if isinstance(node, ast.Name): return None # \"fn\"\n",
    "    if isinstance(node, ast.Call):\n",
    "        n = node.func # step in\n",
    "        if isinstance(n, ast.Name): return n.id # \"fn()\"\n",
    "        if isinstance(n, ast.Attribute): return n.attr\n",
    "    return None # all the rest is not supported"
   ]
  },
  {
   "cell_type": "code",
   "execution_count": null,
   "metadata": {},
   "outputs": [],
   "source": [
    "#| test\n",
    "\n",
    "# OK\n",
    "test_eq(extract_call(last_node('fn()')), 'fn')\n",
    "test_eq(extract_call(last_node('x.fn()')), 'fn')\n",
    "test_eq(extract_call(last_node('x.y.fn()')), 'fn')\n",
    "test_eq(extract_call(last_node('x.y.z.fn()')), 'fn')\n",
    "\n",
    "# KO\n",
    "test_eq(extract_call(last_node('(fn)')), None)\n",
    "test_eq(extract_call(last_node('fn')), None)\n",
    "test_eq(extract_call(last_node('(fn(),fn)')), None)\n",
    "test_eq(extract_call(last_node('(x.y.fn(),fn())')), None)"
   ]
  },
  {
   "cell_type": "code",
   "execution_count": null,
   "metadata": {},
   "outputs": [],
   "source": [
    "#| export\n",
    "def is_function_call(node,names):\n",
    "    function_name = extract_call(node)\n",
    "    if function_name is None: return False # this is not a function call\n",
    "    return function_name in names"
   ]
  },
  {
   "cell_type": "code",
   "execution_count": null,
   "metadata": {},
   "outputs": [],
   "source": [
    "#| test\n",
    "test_eq( is_function_call( last_node('func(123)'), names=['func'] ) , True )\n",
    "test_eq( is_function_call( last_node('xxx.yyy.zzz.func(123)'), names=['func'] ) , True )\n",
    "test_eq( is_function_call( last_node('func(123)'), names=['def'] ) , False )\n",
    "test_eq( is_function_call( last_node('a=func(123)'), names=['func'] ) , False )\n",
    "test_eq( is_function_call( last_node('a'), names=['func'] ) , False )\n",
    "test_eq( is_function_call( last_node('x.a'), names=['func'] ) , False )\n",
    "test_eq( is_function_call( last_node('x.y.z.a'), names=['func'] ) , False )\n",
    "test_eq( is_function_call( last_node('(a,b())'), names=['func'] ) , False )"
   ]
  },
  {
   "cell_type": "code",
   "execution_count": null,
   "metadata": {},
   "outputs": [],
   "source": [
    "#| export\n",
    "def is_import_statement(node):\n",
    "    return isinstance(node, (ast.Import, ast.ImportFrom))"
   ]
  },
  {
   "cell_type": "code",
   "execution_count": null,
   "metadata": {},
   "outputs": [],
   "source": [
    "#| test\n",
    "test_eq( is_import_statement(last_node('123')) , False )\n",
    "test_eq( is_import_statement(last_node('func(123)')) , False )\n",
    "test_eq( is_import_statement(last_node('# test')) , False )\n",
    "test_eq( is_import_statement(last_node('# import numpy')) , False )\n",
    "test_eq( is_import_statement(last_node('import numpy')) , True )\n",
    "test_eq( is_import_statement(last_node('from PIL import Image')) , True )"
   ]
  },
  {
   "cell_type": "code",
   "execution_count": null,
   "metadata": {},
   "outputs": [],
   "source": [
    "#| export\n",
    "def need_display(node):\n",
    "    if node is None: return False\n",
    "    if is_function_call(node,names=['print','display']): return False\n",
    "    if is_import_statement(node): return False\n",
    "    return True"
   ]
  },
  {
   "cell_type": "code",
   "execution_count": null,
   "metadata": {},
   "outputs": [],
   "source": [
    "#| test\n",
    "def test_need_display(code): return need_display(last_node(code))\n",
    "\n",
    "test_eq( test_need_display('a') , True )\n",
    "#test_eq( test_need_display('a;') , False ) # This is not supported with ast: we should do it differently\n",
    "test_eq( test_need_display('func(a)') , True )\n",
    "test_eq( test_need_display('{1:1,2:2}') , True )\n",
    "test_eq( test_need_display('display(a)') , False )\n",
    "test_eq( test_need_display('# xxx') , False )\n",
    "test_eq( test_need_display('print(a)') , False )\n",
    "test_eq( test_need_display('import xxx') , False )\n",
    "test_eq( test_need_display('from xxx import yyy') , False )"
   ]
  },
  {
   "cell_type": "code",
   "execution_count": null,
   "metadata": {},
   "outputs": [],
   "source": [
    "#| export\n",
    "def wrap_node(node,function_name):\n",
    "    return ast.Expr(\n",
    "        value=ast.Call(\n",
    "            func=ast.Name(id=function_name, ctx=ast.Load()),\n",
    "            args=[node],\n",
    "            keywords=[])\n",
    "        )"
   ]
  },
  {
   "cell_type": "code",
   "execution_count": null,
   "metadata": {},
   "outputs": [],
   "source": [
    "#| test\n",
    "test_eq( wrap_node(last_node('a'),'display').value.func.id, 'display')"
   ]
  },
  {
   "cell_type": "markdown",
   "metadata": {},
   "source": [
    "**NOTE**: we need to make the check on `;` semicolon using string because `ast` ignores it."
   ]
  },
  {
   "cell_type": "code",
   "execution_count": null,
   "metadata": {},
   "outputs": [],
   "source": [
    "#| export\n",
    "def last_statement_has_semicolon(code):\n",
    "    t = [x.strip() for x in code.splitlines()]\n",
    "    t = [x for x in t if not x.startswith('#')]\n",
    "    return t[-1].endswith(';')"
   ]
  },
  {
   "cell_type": "code",
   "execution_count": null,
   "metadata": {},
   "outputs": [],
   "source": [
    "test_eq( last_statement_has_semicolon('a=1\\nb=2') , False )\n",
    "test_eq( last_statement_has_semicolon('a=1\\nb=2;') , True )\n",
    "test_eq( last_statement_has_semicolon('a=1\\nb=2\\n# test') , False )\n",
    "test_eq( last_statement_has_semicolon('a=1\\nb=2;\\n# test') , True )"
   ]
  },
  {
   "cell_type": "code",
   "execution_count": null,
   "metadata": {},
   "outputs": [],
   "source": [
    "#| export\n",
    "def code_till_node(code:str,node):\n",
    "    t = code.splitlines()\n",
    "    t = t[:node.lineno]\n",
    "    t[-1] = t[-1][:node.col_offset]\n",
    "    if len(t[-1])==0: t = t[:-1]\n",
    "    return '\\n'.join(t)"
   ]
  },
  {
   "cell_type": "code",
   "execution_count": null,
   "metadata": {},
   "outputs": [],
   "source": [
    "def do_test_code_till_node(sample_code):\n",
    "    return code_till_node(sample_code, last_node(sample_code))\n",
    "    \n",
    "test_eq( do_test_code_till_node('a=1\\na') , 'a=1' ) # two lines\n",
    "test_eq( do_test_code_till_node('a=1;a') , 'a=1;' ) # inlined\n",
    "test_eq( do_test_code_till_node('a=1;a\\n#') , 'a=1;' ) # with post-comment\n",
    "test_eq( do_test_code_till_node('a=1;print(\\na)') , 'a=1;' ) # multiline instruction\n",
    "test_eq( do_test_code_till_node('print(1,\\n2);print(\\na)') , 'print(1,\\n2);' ) # all together"
   ]
  },
  {
   "cell_type": "markdown",
   "metadata": {},
   "source": [
    "`auto_display` is the main function of this module, and it determines whether a given line of code should be wrapped with a `display(...)` statement or not. It returns the modified code with that modification applied if necessary."
   ]
  },
  {
   "cell_type": "code",
   "execution_count": null,
   "metadata": {},
   "outputs": [],
   "source": [
    "#| export\n",
    "def auto_display(code):\n",
    "    if last_statement_has_semicolon(code): return code\n",
    "    \n",
    "    n = last_node(code)\n",
    "    if not need_display(n): return code\n",
    "    \n",
    "    ns = node_source(n,code)\n",
    "    ret = code_till_node(code, last_node(code))\n",
    "    ret += f'\\ndisplay( # %%testcell\\n{ns}\\n) # %%testcell'\n",
    "    return ret"
   ]
  },
  {
   "cell_type": "code",
   "execution_count": null,
   "metadata": {},
   "outputs": [],
   "source": [
    "test_eq( auto_display('a=1\\na'), 'a=1\\ndisplay( # %%testcell\\na\\n) # %%testcell' )\n",
    "test_eq( auto_display('a=1\\na;'), 'a=1\\na;' )"
   ]
  },
  {
   "cell_type": "code",
   "execution_count": null,
   "metadata": {},
   "outputs": [
    {
     "name": "stdout",
     "output_type": "stream",
     "text": [
      "a=1\n",
      "display( # %%testcell\n",
      "a\n",
      ") # %%testcell\n"
     ]
    }
   ],
   "source": [
    "print(auto_display('a=1\\na'))"
   ]
  },
  {
   "cell_type": "code",
   "execution_count": null,
   "metadata": {},
   "outputs": [
    {
     "name": "stdout",
     "output_type": "stream",
     "text": [
      "a=3\n",
      "a;\n"
     ]
    }
   ],
   "source": [
    "print(auto_display('a=3\\na;'))"
   ]
  },
  {
   "cell_type": "code",
   "execution_count": null,
   "metadata": {},
   "outputs": [
    {
     "data": {
      "text/plain": [
       "5"
      ]
     },
     "metadata": {},
     "output_type": "display_data"
    }
   ],
   "source": [
    "exec(auto_display('a=5\\na'))"
   ]
  },
  {
   "cell_type": "code",
   "execution_count": null,
   "metadata": {},
   "outputs": [],
   "source": [
    "#| hide\n",
    "import nbdev; nbdev.nbdev_export()"
   ]
  }
 ],
 "metadata": {
  "kernelspec": {
   "display_name": "python3",
   "language": "python",
   "name": "python3"
  }
 },
 "nbformat": 4,
 "nbformat_minor": 4
}
