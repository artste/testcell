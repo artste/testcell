{
 "cells": [
  {
   "cell_type": "markdown",
   "id": "4fababdc",
   "metadata": {},
   "source": [
    "# testcell demo\n",
    "\n",
    "This notebook is meant to be a demo of how to use `testcell`."
   ]
  },
  {
   "cell_type": "markdown",
   "id": "d75a2d0b",
   "metadata": {},
   "source": [
    "### install"
   ]
  },
  {
   "cell_type": "code",
   "execution_count": null,
   "id": "a9d36534",
   "metadata": {},
   "outputs": [],
   "source": [
    "!pip install testcell"
   ]
  },
  {
   "cell_type": "code",
   "execution_count": null,
   "id": "574fdb14",
   "metadata": {},
   "outputs": [],
   "source": [
    "import testcell"
   ]
  },
  {
   "cell_type": "markdown",
   "id": "86427b12",
   "metadata": {},
   "source": [
    "### sample state\n",
    "\n",
    "Let's define some stuff in the global space."
   ]
  },
  {
   "cell_type": "code",
   "execution_count": null,
   "id": "c4de6797",
   "metadata": {},
   "outputs": [],
   "source": [
    "import os # sample package\n",
    "\n",
    "sample_variable = 'this is a sample variable'\n",
    "\n",
    "def sample_function(x):\n",
    "    return x * 3"
   ]
  },
  {
   "cell_type": "code",
   "execution_count": null,
   "id": "545b0118",
   "metadata": {},
   "outputs": [],
   "source": [
    "globals().keys()"
   ]
  },
  {
   "cell_type": "markdown",
   "id": "021238cc",
   "metadata": {},
   "source": [
    "### `%%testcell` basic use case\n",
    "\n",
    "This shows the basic `%%testcell` usage with no additional options, just execute a cell."
   ]
  },
  {
   "cell_type": "code",
   "execution_count": null,
   "id": "30027b0f",
   "metadata": {},
   "outputs": [],
   "source": [
    "%%testcell\n",
    "a = \"'a' is not polluting global scope\"\n",
    "a"
   ]
  },
  {
   "cell_type": "code",
   "execution_count": null,
   "id": "a135198e",
   "metadata": {},
   "outputs": [],
   "source": [
    "# Ensure 'a' is not part of global namespace\n",
    "assert 'a' not in globals().keys()"
   ]
  },
  {
   "cell_type": "code",
   "execution_count": null,
   "id": "3f369a4a",
   "metadata": {},
   "outputs": [],
   "source": [
    "%%testcell\n",
    "a = \"'a' is not polluting global scope\"; a # it works as inline too even if there is a comment"
   ]
  },
  {
   "cell_type": "code",
   "execution_count": null,
   "id": "2ea4f41f",
   "metadata": {},
   "outputs": [],
   "source": [
    "%%testcell\n",
    "a = \"'a' is not polluting global scope\"; a; # no output if statement ends with a semicolon "
   ]
  },
  {
   "cell_type": "markdown",
   "id": "55b2c0b3",
   "metadata": {},
   "source": [
    "### integration with jupyter rich output"
   ]
  },
  {
   "cell_type": "code",
   "execution_count": null,
   "id": "1e70eb60",
   "metadata": {},
   "outputs": [],
   "source": [
    "%%testcell\n",
    "from IPython.display import SVG,HTML\n",
    "import base64\n",
    "\n",
    "svg = SVG(url='https://upload.wikimedia.org/wikipedia/commons/4/4f/SVG_Logo.svg')\n",
    "HTML(svg.data.replace('<svg','<svg style=\"width:100; display:block; margin:auto\" '))"
   ]
  },
  {
   "cell_type": "markdown",
   "id": "cb777902",
   "metadata": {},
   "source": [
    "### `verbose` option\n",
    "\n",
    "This option will print the real code executed by the cell and then excecute it.\n",
    "This is useful fo debugging and understanding what is happening under the hood."
   ]
  },
  {
   "cell_type": "code",
   "execution_count": null,
   "id": "9e576724",
   "metadata": {},
   "outputs": [],
   "source": [
    "%%testcell verbose\n",
    "b = 123\n",
    "b"
   ]
  },
  {
   "cell_type": "markdown",
   "id": "c5058177",
   "metadata": {},
   "source": [
    "### `dryrun` option\n",
    "\n",
    "Same as `verbose`, but it don't execute the code."
   ]
  },
  {
   "cell_type": "code",
   "execution_count": null,
   "id": "3065d361",
   "metadata": {},
   "outputs": [],
   "source": [
    "%%testcell dryrun\n",
    "b = 123\n",
    "print('You should not see this message on the output')"
   ]
  },
  {
   "cell_type": "markdown",
   "id": "35574470",
   "metadata": {},
   "source": [
    "### `noreturn` option\n",
    "\n",
    "This option will `display`, but not *return* anything from the cell.\n",
    "It's useful when you want to execute something, see the result but don't update the last cell execution result (`_`)"
   ]
  },
  {
   "cell_type": "code",
   "execution_count": null,
   "id": "19ab37cc",
   "metadata": {},
   "outputs": [],
   "source": [
    "%%testcell noreturn\n",
    "b = 123\n",
    "b"
   ]
  },
  {
   "cell_type": "markdown",
   "id": "6024316f",
   "metadata": {},
   "source": [
    "### `%%testcelln` no global access\n",
    "This will execute the cell with no access to the notebook global namespace.\n",
    "\n",
    "NOTE: `__builtins__` are the built in Python functions."
   ]
  },
  {
   "cell_type": "code",
   "execution_count": null,
   "id": "b0a2abfd",
   "metadata": {},
   "outputs": [],
   "source": [
    "%%testcelln\n",
    "assert list(globals().keys()) == ['__builtins__']\n",
    "\n",
    "print(globals().keys())"
   ]
  },
  {
   "cell_type": "markdown",
   "id": "05290ea3",
   "metadata": {},
   "source": [
    "**That's all folks!**"
   ]
  }
 ],
 "metadata": {
  "kernelspec": {
   "display_name": "python3",
   "language": "python",
   "name": "python3"
  }
 },
 "nbformat": 4,
 "nbformat_minor": 5
}
